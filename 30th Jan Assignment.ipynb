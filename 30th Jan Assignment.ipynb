{
 "cells": [
  {
   "cell_type": "code",
   "execution_count": 2,
   "id": "689abc9f",
   "metadata": {},
   "outputs": [
    {
     "data": {
      "text/plain": [
       "'marks               Grade\\n>90                 A\\n>80 and <=90        B\\n>=60 and <=80       C\\nbelow 60            D'"
      ]
     },
     "execution_count": 2,
     "metadata": {},
     "output_type": "execute_result"
    }
   ],
   "source": [
    "#Question1: Write a program to accept percentage from the user and display the grade according to the following criteria:\n",
    "\n",
    "\"\"\"marks               Grade\n",
    ">90                 A\n",
    ">80 and <=90        B\n",
    ">=60 and <=80       C\n",
    "below 60            D\"\"\""
   ]
  },
  {
   "cell_type": "code",
   "execution_count": 3,
   "id": "42e72218",
   "metadata": {},
   "outputs": [
    {
     "ename": "SyntaxError",
     "evalue": "unexpected EOF while parsing (1536830141.py, line 9)",
     "output_type": "error",
     "traceback": [
      "\u001b[1;36m  Cell \u001b[1;32mIn[3], line 9\u001b[1;36m\u001b[0m\n\u001b[1;33m    print(\"Grade D\"\u001b[0m\n\u001b[1;37m                   ^\u001b[0m\n\u001b[1;31mSyntaxError\u001b[0m\u001b[1;31m:\u001b[0m unexpected EOF while parsing\n"
     ]
    }
   ],
   "source": [
    "marks=int(input(\"Enter percentage\"))\n",
    "if marks>90:\n",
    "    print(\"Grade A\")\n",
    "elif marks>80 and marks<=90:                      \n",
    "    print(\"Grade B\")\n",
    "elif marks>=60 and marks<=80:\n",
    "    print(\"Grade C\")\n",
    "else:\n",
    "    print(\"Grade D\""
   ]
  },
  {
   "cell_type": "code",
   "execution_count": 4,
   "id": "39f8c67d",
   "metadata": {},
   "outputs": [
    {
     "name": "stdout",
     "output_type": "stream",
     "text": [
      "Enter the cost price of a bike50000\n",
      "Road tax to be paid is 5%\n"
     ]
    }
   ],
   "source": [
    "#Question2: Write a program to accept the cost price of a bike and display the road tax to be paid according to the following \n",
    "#criteria\n",
    "\n",
    "\n",
    "\n",
    "\"\"\"tax                              cost price (in rs)\n",
    "15%                              >100000\n",
    "10%                              >50000 and <=100000\n",
    "5%                               <=50000\"\"\"\n",
    "\n",
    "\n",
    "\n",
    "cost=int(input(\"Enter the cost price of a bike\"))\n",
    "if cost>100000:\n",
    "    print(\"Road tax to be paid is 15%\")\n",
    "elif cost>50000 and cost<=100000:\n",
    "    print(\"Road tax to be paid is 10%\")\n",
    "else:\n",
    "    print(\"Road tax to be paid is 5%\")"
   ]
  },
  {
   "cell_type": "code",
   "execution_count": 5,
   "id": "74dc8759",
   "metadata": {},
   "outputs": [
    {
     "name": "stdout",
     "output_type": "stream",
     "text": [
      "Enter name of cityJaipur\n",
      "Jai Mahal\n"
     ]
    }
   ],
   "source": [
    "#Question3: accept any city from the user and display monuments of the city.\n",
    "\n",
    "\"\"\"city              Monument\n",
    "Delhi             Red Fort\n",
    "Agra              Taj Mahal\n",
    "Jaipur            Jai Mahal\"\"\"\n",
    "\n",
    "\n",
    "\n",
    "city=input(\"Enter name of city\")\n",
    "if city==\"Delhi\":\n",
    "    print(\"Red Fort\")\n",
    "elif city==\"Agra\":\n",
    "    print(\"Taj Mahal\")\n",
    "elif city==\"Jaipur\":\n",
    "    print(\"Jai Mahal\")\n",
    "else:\n",
    "    print(\"please enter the valid input\")"
   ]
  },
  {
   "cell_type": "code",
   "execution_count": 11,
   "id": "48d928dc",
   "metadata": {},
   "outputs": [
    {
     "name": "stdout",
     "output_type": "stream",
     "text": [
      "Enter a number: 45\n",
      "45 can be divided by 3 2 times before it becomes less than or equal to 10.\n"
     ]
    }
   ],
   "source": [
    "#Question4:check how many times a given number can be divided by 3 before it is less than or equal to 10\n",
    "\n",
    "\n",
    "\n",
    "def divide_by_3(n):\n",
    "    count = 0\n",
    "    while n > 10:\n",
    "        n = n / 3\n",
    "        count = count+ 1\n",
    "    return count\n",
    "\n",
    "number = int(input(\"Enter a number: \"))\n",
    "result = divide_by_3(number)\n",
    "print(f\"{number} can be divided by 3 {result} times before it becomes less than or equal to 10.\")\n"
   ]
  },
  {
   "cell_type": "code",
   "execution_count": 12,
   "id": "dbd5659c",
   "metadata": {},
   "outputs": [
    {
     "name": "stdout",
     "output_type": "stream",
     "text": [
      "1\n",
      "2\n",
      "3\n",
      "4\n",
      "5\n",
      "6\n",
      "7\n",
      "8\n",
      "9\n",
      "10\n"
     ]
    },
    {
     "data": {
      "text/plain": [
       "\"In this example, the variable count is initialized to 1, and the while loop runs as long as count is less than or \\nequal to 10.\\nIn each iteration of the loop, the value of count is printed, and then increased by 1. The loop stops when count becomes \\ngreater than 10, at which point the execution of the code continues with the next statement after the loop.\\n\\nThe while loop is particularly useful when you want to keep repeating an operation until some condition \\nis met, or when you need to perform a certain operation repeatedly until a specific event occurs, \\nsuch as user input or a network request completing. In these cases, using a while loop allows you to write code that\\nkeeps running until the desired condition is met, without having to specify the exact number of iterations ahead of time.\\n\\nIt's important to note that if the condition in the while loop is never met, the loop will run indefinitely,\\ncausing an infinite loop. To avoid this, you need to make sure that the condition in the while loop will eventually become \\nfalse, and that the code inside the loop updates the condition appropriately in each iteration.\""
      ]
     },
     "execution_count": 12,
     "metadata": {},
     "output_type": "execute_result"
    }
   ],
   "source": [
    "#question5: why and when to use while loop in python give a detailed description with example.\n",
    "\n",
    "\n",
    "\n",
    "\"\"\"The while loop in Python is used when you want to repeatedly execute a block of code as long as a\n",
    "certain condition is met. Thi\n",
    "s type of loop is used when you don't know the exact number of iterations ahead of time,\n",
    "or when the number of iterations is determined by some condition that can change during the execution of the loop.\n",
    "Here's an example of using a while loop to print the numbers from 1 to 10:\"\"\"\n",
    "\n",
    "\n",
    "\n",
    "\n",
    "count = 1\n",
    "while count <= 10:\n",
    "    print(count)\n",
    "    count += 1\n",
    "\n",
    " \n",
    "\n",
    "\n",
    "\"\"\"In this example, the variable count is initialized to 1, and the while loop runs as long as count is less than or \n",
    "equal to 10.\n",
    "In each iteration of the loop, the value of count is printed, and then increased by 1. The loop stops when count becomes \n",
    "greater than 10, at which point the execution of the code continues with the next statement after the loop.\n",
    "\n",
    "The while loop is particularly useful when you want to keep repeating an operation until some condition \n",
    "is met, or when you need to perform a certain operation repeatedly until a specific event occurs, \n",
    "such as user input or a network request completing. In these cases, using a while loop allows you to write code that\n",
    "keeps running until the desired condition is met, without having to specify the exact number of iterations ahead of time.\n",
    "\n",
    "It's important to note that if the condition in the while loop is never met, the loop will run indefinitely,\n",
    "causing an infinite loop. To avoid this, you need to make sure that the condition in the while loop will eventually become \n",
    "false, and that the code inside the loop updates the condition appropriately in each iteration.\"\"\"\n",
    "\n",
    "\n",
    "\n",
    "\n"
   ]
  },
  {
   "cell_type": "code",
   "execution_count": 13,
   "id": "520c3cf7",
   "metadata": {},
   "outputs": [
    {
     "name": "stdout",
     "output_type": "stream",
     "text": [
      "* \n",
      "* * \n",
      "* * * \n",
      "* * * * \n",
      "* * * * * \n",
      "\n",
      "\n"
     ]
    }
   ],
   "source": [
    "#Question6: use nested while loop to print 3 different pattern.\n",
    "\n",
    "\n",
    "\n",
    "# Pattern 1: right triangle\n",
    "i = 1\n",
    "while i <= 5:\n",
    "    j = 1\n",
    "    while j <= i:\n",
    "        print(\"*\", end=\" \")\n",
    "        j += 1\n",
    "    print(\"\")\n",
    "    i += 1\n",
    "\n",
    "print(\"\\n\")"
   ]
  },
  {
   "cell_type": "code",
   "execution_count": 14,
   "id": "9500a64d",
   "metadata": {},
   "outputs": [
    {
     "name": "stdout",
     "output_type": "stream",
     "text": [
      "* * * * * \n",
      "* * * * \n",
      "* * * \n",
      "* * \n",
      "* \n",
      "\n",
      "\n"
     ]
    }
   ],
   "source": [
    "# Pattern 2: inverted right triangle\n",
    "i = 5\n",
    "while i >= 1:\n",
    "    j = 1\n",
    "    while j <= i:\n",
    "        print(\"*\", end=\" \")\n",
    "        j += 1\n",
    "    print(\"\")\n",
    "    i -= 1\n",
    "\n",
    "print(\"\\n\")"
   ]
  },
  {
   "cell_type": "code",
   "execution_count": 15,
   "id": "70d39546",
   "metadata": {},
   "outputs": [
    {
     "name": "stdout",
     "output_type": "stream",
     "text": [
      "    *\n",
      "   ***\n",
      "  *****\n",
      " *******\n",
      "*********\n",
      " *******\n",
      "  *****\n",
      "   ***\n",
      "    *\n"
     ]
    }
   ],
   "source": [
    "# Pattern 3: diamond\n",
    "i = 1\n",
    "while i <= 5:\n",
    "    j = 1\n",
    "    while j <= 5 - i:\n",
    "        print(\" \", end=\"\")\n",
    "        j += 1\n",
    "    k = 1\n",
    "    while k <= 2 * i - 1:\n",
    "        print(\"*\", end=\"\")\n",
    "        k += 1\n",
    "    print(\"\")\n",
    "    i += 1\n",
    "\n",
    "i = 4\n",
    "while i >= 1:\n",
    "    j = 1\n",
    "    while j <= 5 - i:\n",
    "        print(\" \", end=\"\")\n",
    "        j += 1\n",
    "    k = 1\n",
    "    while k <= 2 * i - 1:\n",
    "        print(\"*\", end=\"\")\n",
    "        k += 1\n",
    "    print(\"\")\n",
    "    i -= 1\n"
   ]
  },
  {
   "cell_type": "code",
   "execution_count": 17,
   "id": "db9111f0",
   "metadata": {},
   "outputs": [
    {
     "name": "stdout",
     "output_type": "stream",
     "text": [
      "10\n",
      "9\n",
      "8\n",
      "7\n",
      "6\n",
      "5\n",
      "4\n",
      "3\n",
      "2\n",
      "1\n"
     ]
    }
   ],
   "source": [
    "#Question7: reverse a while loop to display numbers from 10 to 1.\n",
    "\n",
    "\n",
    "\n",
    "count = 10\n",
    "while count >= 1:\n",
    "    print(count)\n",
    "    count =count- 1\n"
   ]
  },
  {
   "cell_type": "code",
   "execution_count": null,
   "id": "45a0c5fb",
   "metadata": {},
   "outputs": [],
   "source": [
    "#Question number 7 and 8 are similar "
   ]
  }
 ],
 "metadata": {
  "kernelspec": {
   "display_name": "Python 3 (ipykernel)",
   "language": "python",
   "name": "python3"
  },
  "language_info": {
   "codemirror_mode": {
    "name": "ipython",
    "version": 3
   },
   "file_extension": ".py",
   "mimetype": "text/x-python",
   "name": "python",
   "nbconvert_exporter": "python",
   "pygments_lexer": "ipython3",
   "version": "3.9.6"
  }
 },
 "nbformat": 4,
 "nbformat_minor": 5
}
